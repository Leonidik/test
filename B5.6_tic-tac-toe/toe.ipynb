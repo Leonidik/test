{
 "cells": [
  {
   "cell_type": "code",
   "execution_count": null,
   "metadata": {},
   "outputs": [],
   "source": []
  },
  {
   "cell_type": "code",
   "execution_count": 1,
   "metadata": {},
   "outputs": [],
   "source": [
    "from IPython.display import clear_output"
   ]
  },
  {
   "cell_type": "code",
   "execution_count": 2,
   "metadata": {},
   "outputs": [],
   "source": [
    "# Матрица ходов (state[0] - крестики, state[1] - нулики)\n",
    "state = [[0 for i in range(9)] for i in range(2)]\n",
    "# Общая картина игры\n",
    "field = [i for i in range(1,10)]\n",
    "# Максимальный результат для всех выигрышных срезов \n",
    "out   = [0 for i in range(2)]\n",
    "# Идентификатов игрока (0 - крестик, 1 - нулик)\n",
    "person = [0,1]\n",
    "# Обозначения игроков при выводе результатов на общую картину игры\n",
    "output = ['+','-']\n",
    "# Максимальные результаты игроков\n",
    "rezult = [0,0]"
   ]
  },
  {
   "cell_type": "code",
   "execution_count": 3,
   "metadata": {},
   "outputs": [],
   "source": [
    "# Выигрышные срезы (три горизонтальных, три вертикальных и два диагональных)\n",
    "tmp = ((0,3,1),(3,6,1),(6,9,1),\\\n",
    "       (0,9,3),(1,9,3),(2,9,3),\\\n",
    "       (0,9,4),(2,8,2))"
   ]
  },
  {
   "cell_type": "code",
   "execution_count": 4,
   "metadata": {},
   "outputs": [
    {
     "name": "stdout",
     "output_type": "stream",
     "text": [
      "Ход 'o': 9\n",
      "\n",
      "Конец игры, выиграл  'o'\n",
      "x x o\n",
      "o x o\n",
      "x 8 o\n"
     ]
    }
   ],
   "source": [
    "# Начальная инициализация переменных\n",
    "state  = [[0 for i in range(9)] for i in range(2)]\n",
    "field  = [str(i) for i in range(1,10)]\n",
    "out    = [0 for i in range(2)]\n",
    "person = [0,1]\n",
    "rezult = [0,0]\n",
    "output = ['x','o']\n",
    "\n",
    "# Ход игры\n",
    "while True:\n",
    "    p = person[0]       \n",
    "\n",
    "    # Вывод текущего поля игры на экран\n",
    "    while True:\n",
    "        for i in range(3):\n",
    "            k = i*3\n",
    "            print('{0} {1} {2}'.format(field[k],field[k+1],field[k+2]))\n",
    "        \n",
    "        clear_output(wait=True)            \n",
    "\n",
    "        # Поочередные ходы игроков\n",
    "        k = input(\"Ход '\" + str(output[p]) + \"': \")\n",
    "        if (k in field) and (k!='x') and (k!='o'):\n",
    "            k = int(k) - 1\n",
    "            break\n",
    "        else:\n",
    "            print('\\nНеправильный ввод')\n",
    "\n",
    "    # Выполнение хода игрока\n",
    "    state[p][k] = 1\n",
    "    field[k]    = str(output[p])\n",
    "    rezult[p]   = max(list(map(sum,[state[p][i:j:k] for i,j,k in tmp])))\n",
    "    person      = person[::-1]\n",
    "    print()\n",
    "\n",
    "    # Анализ результата хода игрока\n",
    "    if (rezult[0] == 3) or (rezult[1] == 3):\n",
    "        print('Конец игры, выиграл ', \"'\"+output[p]+\"'\")\n",
    "        break\n",
    "    steps = sum([state[0][i] + state[1][i] for i in range(9)])\n",
    "    if steps == 9:\n",
    "        print('Конец игры, ничья')\n",
    "        break\n",
    "\n",
    "# Вывод финальной картины игры на экран\n",
    "for i in range(3):\n",
    "    k = i*3\n",
    "    print('{0} {1} {2}'.format(field[k],field[k+1],field[k+2]))"
   ]
  },
  {
   "cell_type": "code",
   "execution_count": null,
   "metadata": {},
   "outputs": [],
   "source": []
  },
  {
   "cell_type": "code",
   "execution_count": null,
   "metadata": {},
   "outputs": [],
   "source": []
  }
 ],
 "metadata": {
  "kernelspec": {
   "display_name": "Python 3 (ipykernel)",
   "language": "python",
   "name": "python3"
  },
  "language_info": {
   "codemirror_mode": {
    "name": "ipython",
    "version": 3
   },
   "file_extension": ".py",
   "mimetype": "text/x-python",
   "name": "python",
   "nbconvert_exporter": "python",
   "pygments_lexer": "ipython3",
   "version": "3.8.10"
  }
 },
 "nbformat": 4,
 "nbformat_minor": 4
}
