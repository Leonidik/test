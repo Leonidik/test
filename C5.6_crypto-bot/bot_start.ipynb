{
 "cells": [
  {
   "cell_type": "markdown",
   "id": "bf953977",
   "metadata": {},
   "source": [
    "bot name: LeoTestBot<br>\n",
    "user name: @leo1401_bot\n",
    "\n",
    "https://manage.exchangeratesapi.io<br>\n",
    "https://exchangeratesapi.io/documentation/<br>\n",
    "access_key=cf85820160c0985e911fe2b7646240e4<br>\n",
    "\n",
    "base  - исходная валюта конвертации<br>\n",
    "quote - конечная валюта конвертации<br>\n",
    "amount - количество конвертируемой валюты"
   ]
  },
  {
   "cell_type": "code",
   "execution_count": 1,
   "id": "dbc757f6",
   "metadata": {},
   "outputs": [],
   "source": [
    "#from bot_extentions import *\n",
    "#Main.start(Main.TOKEN, Main.access, Main.keys)"
   ]
  },
  {
   "cell_type": "code",
   "execution_count": 2,
   "id": "17b15834",
   "metadata": {},
   "outputs": [],
   "source": [
    "%run ./bot_main.py"
   ]
  },
  {
   "cell_type": "code",
   "execution_count": null,
   "id": "8595a303",
   "metadata": {},
   "outputs": [],
   "source": []
  }
 ],
 "metadata": {
  "kernelspec": {
   "display_name": "Python 3 (ipykernel)",
   "language": "python",
   "name": "python3"
  },
  "language_info": {
   "codemirror_mode": {
    "name": "ipython",
    "version": 3
   },
   "file_extension": ".py",
   "mimetype": "text/x-python",
   "name": "python",
   "nbconvert_exporter": "python",
   "pygments_lexer": "ipython3",
   "version": "3.8.10"
  }
 },
 "nbformat": 4,
 "nbformat_minor": 5
}
